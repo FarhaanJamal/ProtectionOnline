{
 "cells": [
  {
   "cell_type": "code",
   "execution_count": 1,
   "metadata": {},
   "outputs": [],
   "source": [
    "import sklearn\n",
    "import pandas as pd\n",
    "import numpy as np\n"
   ]
  },
  {
   "cell_type": "code",
   "execution_count": 3,
   "metadata": {},
   "outputs": [],
   "source": [
    "df_reviews_raw = pd.read_csv('Dataset of Malicious and Benign Webpages/Webpages_Classification_train_data.csv/Webpages_Classification_train_data.csv').drop(['Unnamed: 0'], axis=1)"
   ]
  },
  {
   "cell_type": "code",
   "execution_count": 4,
   "metadata": {},
   "outputs": [
    {
     "data": {
      "text/plain": [
       "url           0\n",
       "url_len       0\n",
       "ip_add        0\n",
       "geo_loc       0\n",
       "tld           0\n",
       "who_is        0\n",
       "https         0\n",
       "js_len        0\n",
       "js_obf_len    0\n",
       "content       0\n",
       "label         0\n",
       "dtype: int64"
      ]
     },
     "execution_count": 4,
     "metadata": {},
     "output_type": "execute_result"
    }
   ],
   "source": [
    "df_reviews_raw.isna().sum()"
   ]
  },
  {
   "cell_type": "code",
   "execution_count": 6,
   "metadata": {},
   "outputs": [
    {
     "data": {
      "text/plain": [
       "count     1200000\n",
       "unique          2\n",
       "top          good\n",
       "freq      1172747\n",
       "Name: label, dtype: object"
      ]
     },
     "execution_count": 6,
     "metadata": {},
     "output_type": "execute_result"
    }
   ],
   "source": [
    "df_reviews_raw.label.describe()"
   ]
  },
  {
   "cell_type": "code",
   "execution_count": 7,
   "metadata": {},
   "outputs": [
    {
     "name": "stdout",
     "output_type": "stream",
     "text": [
      "count     50000\n",
      "unique        2\n",
      "top         bad\n",
      "freq      25000\n",
      "Name: label, dtype: object\n"
     ]
    }
   ],
   "source": [
    "# Set the minimum word count threshold\n",
    "min_word_count = 60\n",
    "\n",
    "# Group by label and filter out shorter reviews within each group\n",
    "df_reviews_trimmed = df_reviews_raw.groupby('label').apply(lambda x: x[x['content'].str.split().str.len() >= min_word_count].sample(25000, random_state=42)).reset_index(drop=True)\n",
    "\n",
    "# Display summary statistics of the label column in the trimmed DataFrame\n",
    "print(df_reviews_trimmed['label'].describe())"
   ]
  },
  {
   "cell_type": "code",
   "execution_count": 8,
   "metadata": {},
   "outputs": [
    {
     "name": "stdout",
     "output_type": "stream",
     "text": [
      "count     4000\n",
      "unique       2\n",
      "top        bad\n",
      "freq      2000\n",
      "Name: label, dtype: object\n"
     ]
    }
   ],
   "source": [
    "# Import necessary libraries\n",
    "import pandas as pd\n",
    "\n",
    "# Load your trimmed review data into df_reviews_trimmed DataFrame\n",
    "\n",
    "# Resample trimmed dataframe to make it uniformly distributed\n",
    "df_reviews_sampled = df_reviews_trimmed.groupby('label').apply(lambda x: x.sample(2000, random_state=42)).reset_index(drop=True)\n",
    "\n",
    "# Randomly shuffle rows for aesthetics\n",
    "df_reviews = df_reviews_sampled.sample(frac=1, random_state=42).reset_index(drop=True)\n",
    "\n",
    "# Display summary statistics of the label column in the shuffled DataFrame\n",
    "print(df_reviews['label'].describe())\n"
   ]
  },
  {
   "cell_type": "code",
   "execution_count": 9,
   "metadata": {},
   "outputs": [
    {
     "data": {
      "text/html": [
       "<div>\n",
       "<style scoped>\n",
       "    .dataframe tbody tr th:only-of-type {\n",
       "        vertical-align: middle;\n",
       "    }\n",
       "\n",
       "    .dataframe tbody tr th {\n",
       "        vertical-align: top;\n",
       "    }\n",
       "\n",
       "    .dataframe thead th {\n",
       "        text-align: right;\n",
       "    }\n",
       "</style>\n",
       "<table border=\"1\" class=\"dataframe\">\n",
       "  <thead>\n",
       "    <tr style=\"text-align: right;\">\n",
       "      <th></th>\n",
       "      <th>url</th>\n",
       "      <th>url_len</th>\n",
       "      <th>ip_add</th>\n",
       "      <th>geo_loc</th>\n",
       "      <th>tld</th>\n",
       "      <th>who_is</th>\n",
       "      <th>https</th>\n",
       "      <th>js_len</th>\n",
       "      <th>js_obf_len</th>\n",
       "      <th>content</th>\n",
       "      <th>label</th>\n",
       "    </tr>\n",
       "  </thead>\n",
       "  <tbody>\n",
       "    <tr>\n",
       "      <th>0</th>\n",
       "      <td>http://www.lesbian-porn-tongue.com/bikini-girls/</td>\n",
       "      <td>48</td>\n",
       "      <td>137.118.56.83</td>\n",
       "      <td>United States</td>\n",
       "      <td>com</td>\n",
       "      <td>incomplete</td>\n",
       "      <td>no</td>\n",
       "      <td>550.8</td>\n",
       "      <td>495.72</td>\n",
       "      <td>teste nudger dick porn kraut criminal dumb ban...</td>\n",
       "      <td>bad</td>\n",
       "    </tr>\n",
       "    <tr>\n",
       "      <th>1</th>\n",
       "      <td>http://siscvball.com/</td>\n",
       "      <td>21</td>\n",
       "      <td>34.40.33.8</td>\n",
       "      <td>United States</td>\n",
       "      <td>com</td>\n",
       "      <td>complete</td>\n",
       "      <td>no</td>\n",
       "      <td>52.5</td>\n",
       "      <td>0.00</td>\n",
       "      <td>In 1844, (domain name system) give names for t...</td>\n",
       "      <td>good</td>\n",
       "    </tr>\n",
       "    <tr>\n",
       "      <th>2</th>\n",
       "      <td>http://auster.verastein.de/</td>\n",
       "      <td>27</td>\n",
       "      <td>30.31.239.84</td>\n",
       "      <td>United States</td>\n",
       "      <td>de</td>\n",
       "      <td>incomplete</td>\n",
       "      <td>no</td>\n",
       "      <td>793.8</td>\n",
       "      <td>476.28</td>\n",
       "      <td>Roll, cardinal vision. the infrared spectrum i...</td>\n",
       "      <td>bad</td>\n",
       "    </tr>\n",
       "    <tr>\n",
       "      <th>3</th>\n",
       "      <td>http://www.lsfnet.org/</td>\n",
       "      <td>22</td>\n",
       "      <td>144.125.3.7</td>\n",
       "      <td>United States</td>\n",
       "      <td>org</td>\n",
       "      <td>complete</td>\n",
       "      <td>yes</td>\n",
       "      <td>73.0</td>\n",
       "      <td>0.00</td>\n",
       "      <td>Change roles on brazilian trade and opening up...</td>\n",
       "      <td>good</td>\n",
       "    </tr>\n",
       "    <tr>\n",
       "      <th>4</th>\n",
       "      <td>http://www.uspapermoney.com</td>\n",
       "      <td>27</td>\n",
       "      <td>184.70.138.145</td>\n",
       "      <td>Canada</td>\n",
       "      <td>com</td>\n",
       "      <td>incomplete</td>\n",
       "      <td>yes</td>\n",
       "      <td>182.0</td>\n",
       "      <td>0.00</td>\n",
       "      <td>Tyler (2008). made and. Automatic digital wint...</td>\n",
       "      <td>good</td>\n",
       "    </tr>\n",
       "  </tbody>\n",
       "</table>\n",
       "</div>"
      ],
      "text/plain": [
       "                                                url  url_len          ip_add  \\\n",
       "0  http://www.lesbian-porn-tongue.com/bikini-girls/       48   137.118.56.83   \n",
       "1                             http://siscvball.com/       21      34.40.33.8   \n",
       "2                       http://auster.verastein.de/       27    30.31.239.84   \n",
       "3                            http://www.lsfnet.org/       22     144.125.3.7   \n",
       "4                       http://www.uspapermoney.com       27  184.70.138.145   \n",
       "\n",
       "         geo_loc  tld      who_is https  js_len  js_obf_len  \\\n",
       "0  United States  com  incomplete    no   550.8      495.72   \n",
       "1  United States  com    complete    no    52.5        0.00   \n",
       "2  United States   de  incomplete    no   793.8      476.28   \n",
       "3  United States  org    complete   yes    73.0        0.00   \n",
       "4         Canada  com  incomplete   yes   182.0        0.00   \n",
       "\n",
       "                                             content label  \n",
       "0  teste nudger dick porn kraut criminal dumb ban...   bad  \n",
       "1  In 1844, (domain name system) give names for t...  good  \n",
       "2  Roll, cardinal vision. the infrared spectrum i...   bad  \n",
       "3  Change roles on brazilian trade and opening up...  good  \n",
       "4  Tyler (2008). made and. Automatic digital wint...  good  "
      ]
     },
     "execution_count": 9,
     "metadata": {},
     "output_type": "execute_result"
    }
   ],
   "source": [
    "df_reviews.head()"
   ]
  },
  {
   "cell_type": "code",
   "execution_count": 10,
   "metadata": {},
   "outputs": [
    {
     "data": {
      "text/html": [
       "<div>\n",
       "<style scoped>\n",
       "    .dataframe tbody tr th:only-of-type {\n",
       "        vertical-align: middle;\n",
       "    }\n",
       "\n",
       "    .dataframe tbody tr th {\n",
       "        vertical-align: top;\n",
       "    }\n",
       "\n",
       "    .dataframe thead th {\n",
       "        text-align: right;\n",
       "    }\n",
       "</style>\n",
       "<table border=\"1\" class=\"dataframe\">\n",
       "  <thead>\n",
       "    <tr style=\"text-align: right;\">\n",
       "      <th></th>\n",
       "      <th>geo_loc</th>\n",
       "      <th>tld</th>\n",
       "      <th>who_is</th>\n",
       "      <th>https</th>\n",
       "      <th>label</th>\n",
       "    </tr>\n",
       "  </thead>\n",
       "  <tbody>\n",
       "    <tr>\n",
       "      <th>count</th>\n",
       "      <td>4000</td>\n",
       "      <td>4000</td>\n",
       "      <td>4000</td>\n",
       "      <td>4000</td>\n",
       "      <td>4000</td>\n",
       "    </tr>\n",
       "    <tr>\n",
       "      <th>unique</th>\n",
       "      <td>112</td>\n",
       "      <td>90</td>\n",
       "      <td>2</td>\n",
       "      <td>2</td>\n",
       "      <td>2</td>\n",
       "    </tr>\n",
       "    <tr>\n",
       "      <th>top</th>\n",
       "      <td>United States</td>\n",
       "      <td>com</td>\n",
       "      <td>incomplete</td>\n",
       "      <td>no</td>\n",
       "      <td>bad</td>\n",
       "    </tr>\n",
       "    <tr>\n",
       "      <th>freq</th>\n",
       "      <td>1776</td>\n",
       "      <td>2627</td>\n",
       "      <td>2227</td>\n",
       "      <td>2230</td>\n",
       "      <td>2000</td>\n",
       "    </tr>\n",
       "  </tbody>\n",
       "</table>\n",
       "</div>"
      ],
      "text/plain": [
       "              geo_loc   tld      who_is https label\n",
       "count            4000  4000        4000  4000  4000\n",
       "unique            112    90           2     2     2\n",
       "top     United States   com  incomplete    no   bad\n",
       "freq             1776  2627        2227  2230  2000"
      ]
     },
     "execution_count": 10,
     "metadata": {},
     "output_type": "execute_result"
    }
   ],
   "source": [
    "df_reviews[['geo_loc', 'tld','who_is','https', 'label']].describe()"
   ]
  },
  {
   "cell_type": "code",
   "execution_count": 11,
   "metadata": {},
   "outputs": [],
   "source": [
    "import sklearn\n",
    "from sklearn.preprocessing import OrdinalEncoder\n",
    "\n",
    "# Assuming df_reviews is your DataFrame containing the categorical variables\n",
    "\n",
    "# Initialize OrdinalEncoder\n",
    "encoder = OrdinalEncoder()\n",
    "\n",
    "# List of columns to encode\n",
    "columns_to_encode = ['geo_loc', 'tld', 'who_is', 'https', 'label']\n",
    "\n",
    "# Fit and transform the specified columns\n",
    "df_reviews[columns_to_encode] = encoder.fit_transform(df_reviews[columns_to_encode])\n",
    "\n",
    "# Now, df_reviews contains the categorical variables encoded as ordinal numbers\n"
   ]
  },
  {
   "cell_type": "code",
   "execution_count": 12,
   "metadata": {},
   "outputs": [
    {
     "data": {
      "text/html": [
       "<div>\n",
       "<style scoped>\n",
       "    .dataframe tbody tr th:only-of-type {\n",
       "        vertical-align: middle;\n",
       "    }\n",
       "\n",
       "    .dataframe tbody tr th {\n",
       "        vertical-align: top;\n",
       "    }\n",
       "\n",
       "    .dataframe thead th {\n",
       "        text-align: right;\n",
       "    }\n",
       "</style>\n",
       "<table border=\"1\" class=\"dataframe\">\n",
       "  <thead>\n",
       "    <tr style=\"text-align: right;\">\n",
       "      <th></th>\n",
       "      <th>url</th>\n",
       "      <th>url_len</th>\n",
       "      <th>ip_add</th>\n",
       "      <th>geo_loc</th>\n",
       "      <th>tld</th>\n",
       "      <th>who_is</th>\n",
       "      <th>https</th>\n",
       "      <th>js_len</th>\n",
       "      <th>js_obf_len</th>\n",
       "      <th>content</th>\n",
       "      <th>label</th>\n",
       "    </tr>\n",
       "  </thead>\n",
       "  <tbody>\n",
       "    <tr>\n",
       "      <th>0</th>\n",
       "      <td>lesbian-porn-tongue com bikini-girls</td>\n",
       "      <td>48</td>\n",
       "      <td>137.118.56.83</td>\n",
       "      <td>107.0</td>\n",
       "      <td>23.0</td>\n",
       "      <td>1.0</td>\n",
       "      <td>0.0</td>\n",
       "      <td>550.8</td>\n",
       "      <td>495.72</td>\n",
       "      <td>teste nudger dick porn kraut criminal dumb ban...</td>\n",
       "      <td>0.0</td>\n",
       "    </tr>\n",
       "    <tr>\n",
       "      <th>1</th>\n",
       "      <td>siscvball com</td>\n",
       "      <td>21</td>\n",
       "      <td>34.40.33.8</td>\n",
       "      <td>107.0</td>\n",
       "      <td>23.0</td>\n",
       "      <td>0.0</td>\n",
       "      <td>0.0</td>\n",
       "      <td>52.5</td>\n",
       "      <td>0.00</td>\n",
       "      <td>In 1844, (domain name system) give names for t...</td>\n",
       "      <td>1.0</td>\n",
       "    </tr>\n",
       "    <tr>\n",
       "      <th>2</th>\n",
       "      <td>auster verastein de</td>\n",
       "      <td>27</td>\n",
       "      <td>30.31.239.84</td>\n",
       "      <td>107.0</td>\n",
       "      <td>33.0</td>\n",
       "      <td>1.0</td>\n",
       "      <td>0.0</td>\n",
       "      <td>793.8</td>\n",
       "      <td>476.28</td>\n",
       "      <td>Roll, cardinal vision. the infrared spectrum i...</td>\n",
       "      <td>0.0</td>\n",
       "    </tr>\n",
       "    <tr>\n",
       "      <th>3</th>\n",
       "      <td>lsfnet org</td>\n",
       "      <td>22</td>\n",
       "      <td>144.125.3.7</td>\n",
       "      <td>107.0</td>\n",
       "      <td>72.0</td>\n",
       "      <td>0.0</td>\n",
       "      <td>1.0</td>\n",
       "      <td>73.0</td>\n",
       "      <td>0.00</td>\n",
       "      <td>Change roles on brazilian trade and opening up...</td>\n",
       "      <td>1.0</td>\n",
       "    </tr>\n",
       "    <tr>\n",
       "      <th>4</th>\n",
       "      <td>uspapermoney com</td>\n",
       "      <td>27</td>\n",
       "      <td>184.70.138.145</td>\n",
       "      <td>13.0</td>\n",
       "      <td>23.0</td>\n",
       "      <td>1.0</td>\n",
       "      <td>1.0</td>\n",
       "      <td>182.0</td>\n",
       "      <td>0.00</td>\n",
       "      <td>Tyler (2008). made and. Automatic digital wint...</td>\n",
       "      <td>1.0</td>\n",
       "    </tr>\n",
       "  </tbody>\n",
       "</table>\n",
       "</div>"
      ],
      "text/plain": [
       "                                     url  url_len          ip_add  geo_loc  \\\n",
       "0  lesbian-porn-tongue com bikini-girls        48   137.118.56.83    107.0   \n",
       "1                         siscvball com        21      34.40.33.8    107.0   \n",
       "2                   auster verastein de        27    30.31.239.84    107.0   \n",
       "3                            lsfnet org        22     144.125.3.7    107.0   \n",
       "4                       uspapermoney com       27  184.70.138.145     13.0   \n",
       "\n",
       "    tld  who_is  https  js_len  js_obf_len  \\\n",
       "0  23.0     1.0    0.0   550.8      495.72   \n",
       "1  23.0     0.0    0.0    52.5        0.00   \n",
       "2  33.0     1.0    0.0   793.8      476.28   \n",
       "3  72.0     0.0    1.0    73.0        0.00   \n",
       "4  23.0     1.0    1.0   182.0        0.00   \n",
       "\n",
       "                                             content  label  \n",
       "0  teste nudger dick porn kraut criminal dumb ban...    0.0  \n",
       "1  In 1844, (domain name system) give names for t...    1.0  \n",
       "2  Roll, cardinal vision. the infrared spectrum i...    0.0  \n",
       "3  Change roles on brazilian trade and opening up...    1.0  \n",
       "4  Tyler (2008). made and. Automatic digital wint...    1.0  "
      ]
     },
     "execution_count": 12,
     "metadata": {},
     "output_type": "execute_result"
    }
   ],
   "source": [
    "df_reviews['url'] = df_reviews['url'].apply(lambda x: ' '.join(x.split('://')[1].strip('www.').replace('.', '/').split('/')))\n",
    "\n",
    "# Display the DataFrame\n",
    "df_reviews.head()"
   ]
  },
  {
   "cell_type": "code",
   "execution_count": 13,
   "metadata": {},
   "outputs": [
    {
     "name": "stdout",
     "output_type": "stream",
     "text": [
      "Defaulting to user installation because normal site-packages is not writeable\n",
      "Requirement already satisfied: nltk in c:\\users\\acer\\appdata\\roaming\\python\\python311\\site-packages (3.8.1)\n",
      "Requirement already satisfied: click in c:\\users\\acer\\appdata\\roaming\\python\\python311\\site-packages (from nltk) (8.1.7)\n",
      "Requirement already satisfied: joblib in c:\\users\\acer\\appdata\\roaming\\python\\python311\\site-packages (from nltk) (1.3.2)\n",
      "Requirement already satisfied: regex>=2021.8.3 in c:\\users\\acer\\appdata\\roaming\\python\\python311\\site-packages (from nltk) (2023.10.3)\n",
      "Requirement already satisfied: tqdm in c:\\users\\acer\\appdata\\roaming\\python\\python311\\site-packages (from nltk) (4.66.1)\n",
      "Requirement already satisfied: colorama in c:\\users\\acer\\appdata\\roaming\\python\\python311\\site-packages (from click->nltk) (0.4.6)\n",
      "Note: you may need to restart the kernel to use updated packages.\n"
     ]
    },
    {
     "name": "stderr",
     "output_type": "stream",
     "text": [
      "DEPRECATION: Loading egg at c:\\program files\\python311\\lib\\site-packages\\vboxapi-1.0-py3.11.egg is deprecated. pip 23.3 will enforce this behaviour change. A possible replacement is to use pip for package installation..\n",
      "\n",
      "[notice] A new release of pip is available: 23.2.1 -> 24.0\n",
      "[notice] To update, run: python.exe -m pip install --upgrade pip\n"
     ]
    }
   ],
   "source": [
    "pip install nltk"
   ]
  },
  {
   "cell_type": "code",
   "execution_count": 16,
   "metadata": {},
   "outputs": [
    {
     "name": "stderr",
     "output_type": "stream",
     "text": [
      "[nltk_data] Downloading package stopwords to\n",
      "[nltk_data]     C:\\Users\\ACER\\AppData\\Roaming\\nltk_data...\n",
      "[nltk_data]   Unzipping corpora\\stopwords.zip.\n"
     ]
    },
    {
     "data": {
      "text/plain": [
       "True"
      ]
     },
     "execution_count": 16,
     "metadata": {},
     "output_type": "execute_result"
    }
   ],
   "source": [
    "import nltk\n",
    "nltk.download('stopwords')"
   ]
  },
  {
   "cell_type": "code",
   "execution_count": 17,
   "metadata": {},
   "outputs": [
    {
     "name": "stderr",
     "output_type": "stream",
     "text": [
      "100%|██████████| 4000/4000 [02:30<00:00, 26.53it/s]\n",
      "100%|██████████| 4000/4000 [00:00<00:00, 4613.04it/s]"
     ]
    },
    {
     "name": "stdout",
     "output_type": "stream",
     "text": [
      "0    teste nudger dick porn kraut criminal dumb ban...\n",
      "1    1844, (domain system) give names work introduc...\n",
      "2    roll, cardinal vision. infrared spectrum in. g...\n",
      "3    change roles brazilian trade opening future of...\n",
      "4    tyler (2008). made and. automatic digital wint...\n",
      "Name: content, dtype: object\n"
     ]
    },
    {
     "name": "stderr",
     "output_type": "stream",
     "text": [
      "\n"
     ]
    }
   ],
   "source": [
    "import tqdm\n",
    "from tqdm import tqdm\n",
    "from nltk.corpus import stopwords\n",
    "\n",
    "# Initialize tqdm pandas\n",
    "tqdm.pandas()\n",
    "\n",
    "# Get list of stopwords\n",
    "stop = stopwords.words()\n",
    "\n",
    "# Preprocess the content column\n",
    "df_reviews.content = df_reviews.content.str.replace(\"[^\\w\\s]\", \"\").str.lower()\n",
    "df_reviews.content = df_reviews.content.progress_apply(lambda x: ' '.join([item for item in x.split()\n",
    "                                                                           if item not in stop]))\n",
    "\n",
    "# Preprocess the url column\n",
    "df_reviews.url = df_reviews.url.str.replace(\"[^\\w\\s]\", \"\").str.lower()\n",
    "df_reviews.url = df_reviews.url.progress_apply(lambda x: ' '.join([item for item in x.split()\n",
    "                                                                   if item not in stop]))\n",
    "\n",
    "\n",
    "print(df_reviews.content.head())"
   ]
  },
  {
   "cell_type": "code",
   "execution_count": 18,
   "metadata": {},
   "outputs": [],
   "source": [
    "from sklearn.feature_extraction.text import TfidfVectorizer\n",
    "\n",
    "# Initialize TF-IDF Vectorizer for URL\n",
    "tfidf = TfidfVectorizer(\n",
    "    min_df=5,\n",
    "    max_df=0.95,\n",
    "    max_features=8000,\n",
    "    stop_words='english'\n",
    ")\n",
    "\n",
    "# Fit and transform TF-IDF Vectorizer for URL\n",
    "tfidf.fit(df_reviews.url)\n",
    "url_tfidf = tfidf.transform(df_reviews.url)\n",
    "\n",
    "# Fit and transform TF-IDF Vectorizer for content\n",
    "tfidf.fit(df_reviews.content)\n",
    "content_tfidf = tfidf.transform(df_reviews.content)\n"
   ]
  },
  {
   "cell_type": "code",
   "execution_count": 19,
   "metadata": {},
   "outputs": [],
   "source": [
    "from sklearn.cluster import MiniBatchKMeans\n",
    "\n",
    "def find_optimal_clusters(data, max_k):\n",
    "    # Create a range of k values from 2 to max_k\n",
    "    k_list = range(2, max_k+1)\n",
    "\n",
    "    # Initialize a list to store the sum of squared errors (SSE) for each k\n",
    "    sse = []\n",
    "\n",
    "    # Iterate over each value of k\n",
    "    for k in k_list:\n",
    "        # Create a MiniBatchKMeans clustering model with k clusters\n",
    "        kmeans_model = MiniBatchKMeans(n_clusters=k, init_size=1024, batch_size=2048, random_state=20)\n",
    "\n",
    "        # Fit the model to the data and compute the inertia (SSE)\n",
    "        inertia = kmeans_model.fit(data).inertia_\n",
    "\n",
    "        # Append the inertia to the sse list\n",
    "        sse.append(inertia)\n",
    "\n",
    "    # Return the list of SSE values for each k\n",
    "    return sse\n"
   ]
  },
  {
   "cell_type": "code",
   "execution_count": 21,
   "metadata": {},
   "outputs": [
    {
     "name": "stderr",
     "output_type": "stream",
     "text": [
      "C:\\Users\\ACER\\AppData\\Roaming\\Python\\Python311\\site-packages\\sklearn\\cluster\\_kmeans.py:1934: FutureWarning: The default value of `n_init` will change from 3 to 'auto' in 1.4. Set the value of `n_init` explicitly to suppress the warning\n",
      "  super()._check_params_vs_input(X, default_n_init=3)\n"
     ]
    }
   ],
   "source": [
    "from sklearn.cluster import MiniBatchKMeans\n",
    "\n",
    "# MiniBatchKMeans clustering with 8 clusters\n",
    "kmeans = MiniBatchKMeans(n_clusters=8, init_size=1024, batch_size=2048, random_state=20)\n",
    "\n",
    "# Fit and predict cluster labels for TF-IDF representation of URLs\n",
    "df_reviews['url_cluster'] = kmeans.fit_predict(url_tfidf)\n"
   ]
  },
  {
   "cell_type": "code",
   "execution_count": 22,
   "metadata": {},
   "outputs": [],
   "source": [
    "from sklearn.cluster import MiniBatchKMeans\n",
    "\n",
    "# MiniBatchKMeans clustering with 4 clusters\n",
    "kmeans = MiniBatchKMeans(n_clusters=4, init_size=1024, batch_size=2048, random_state=20)\n",
    "\n",
    "# Fit and predict cluster labels for TF-IDF representation of content\n",
    "df_reviews['content_cluster'] = kmeans.fit_predict(content_tfidf)\n"
   ]
  },
  {
   "cell_type": "code",
   "execution_count": 23,
   "metadata": {},
   "outputs": [],
   "source": [
    "label_true = df_reviews[df_reviews['label']==1.0]\n",
    "label_false = df_reviews[df_reviews['label']==0.0]"
   ]
  },
  {
   "cell_type": "code",
   "execution_count": 46,
   "metadata": {},
   "outputs": [
    {
     "name": "stdout",
     "output_type": "stream",
     "text": [
      "Model: \"sequential_3\"\n",
      "_________________________________________________________________\n",
      " Layer (type)                Output Shape              Param #   \n",
      "=================================================================\n",
      " embedding_3 (Embedding)     (None, 7, 100)            85500     \n",
      "                                                                 \n",
      " lstm_2 (LSTM)               (None, 64)                42240     \n",
      "                                                                 \n",
      " dense_2 (Dense)             (None, 1)                 65        \n",
      "                                                                 \n",
      "=================================================================\n",
      "Total params: 127805 (499.24 KB)\n",
      "Trainable params: 127805 (499.24 KB)\n",
      "Non-trainable params: 0 (0.00 Byte)\n",
      "_________________________________________________________________\n",
      "Epoch 1/10\n",
      "88/88 [==============================] - 5s 11ms/step - loss: 0.5188 - accuracy: 0.8189 - val_loss: 0.1880 - val_accuracy: 0.9533\n",
      "Epoch 2/10\n",
      "88/88 [==============================] - 1s 7ms/step - loss: 0.1208 - accuracy: 0.9604 - val_loss: 0.0467 - val_accuracy: 0.9867\n",
      "Epoch 3/10\n",
      "88/88 [==============================] - 1s 7ms/step - loss: 0.0350 - accuracy: 0.9911 - val_loss: 0.0270 - val_accuracy: 0.9883\n",
      "Epoch 4/10\n",
      "88/88 [==============================] - 1s 6ms/step - loss: 0.0240 - accuracy: 0.9921 - val_loss: 0.0219 - val_accuracy: 0.9917\n",
      "Epoch 5/10\n",
      "88/88 [==============================] - 1s 6ms/step - loss: 0.0171 - accuracy: 0.9950 - val_loss: 0.0348 - val_accuracy: 0.9900\n",
      "Epoch 6/10\n",
      "88/88 [==============================] - 1s 7ms/step - loss: 0.0143 - accuracy: 0.9936 - val_loss: 0.0227 - val_accuracy: 0.9900\n",
      "Epoch 7/10\n",
      "88/88 [==============================] - 1s 7ms/step - loss: 0.0115 - accuracy: 0.9954 - val_loss: 0.0297 - val_accuracy: 0.9908\n",
      "Epoch 8/10\n",
      "88/88 [==============================] - 1s 9ms/step - loss: 0.0084 - accuracy: 0.9968 - val_loss: 0.0285 - val_accuracy: 0.9892\n",
      "Epoch 9/10\n",
      "88/88 [==============================] - 1s 7ms/step - loss: 0.0097 - accuracy: 0.9964 - val_loss: 0.0202 - val_accuracy: 0.9908\n",
      "Epoch 10/10\n",
      "88/88 [==============================] - 1s 7ms/step - loss: 0.0097 - accuracy: 0.9971 - val_loss: 0.0279 - val_accuracy: 0.9883\n"
     ]
    },
    {
     "data": {
      "text/plain": [
       "<keras.src.callbacks.History at 0x29105828b90>"
      ]
     },
     "execution_count": 46,
     "metadata": {},
     "output_type": "execute_result"
    }
   ],
   "source": [
    "import tensorflow as tf\n",
    "from sklearn.model_selection import train_test_split\n",
    "from tensorflow.keras.layers import Embedding, LSTM, Dense\n",
    "from tensorflow.keras.models import Sequential\n",
    "\n",
    "# Assuming df_reviews, max_sequence_length, padded_sequences, labels, train_test_split are defined as in your code\n",
    "\n",
    "# Split data into training and test sets\n",
    "train_data, test_data, train_labels, test_labels = train_test_split(padded_sequences, labels, test_size=0.3, random_state=42)\n",
    "\n",
    "# Building LSTM model\n",
    "model = Sequential()\n",
    "model.add(Embedding(input_dim=np.max(padded_sequences) + 1, output_dim=100, input_length=max_sequence_length))\n",
    "model.add(LSTM(units=64, dropout=0.2, recurrent_dropout=0.2))\n",
    "model.add(Dense(units=1, activation='sigmoid'))\n",
    "\n",
    "model.compile(loss='binary_crossentropy', optimizer='adam', metrics=['accuracy'])\n",
    "model.summary()\n",
    "\n",
    "# Train model\n",
    "batch_size = 32\n",
    "epochs = 10\n",
    "\n",
    "model.fit(train_data, train_labels, batch_size=batch_size, epochs=epochs, validation_data=(test_data, test_labels))\n"
   ]
  },
  {
   "cell_type": "code",
   "execution_count": 47,
   "metadata": {},
   "outputs": [
    {
     "name": "stdout",
     "output_type": "stream",
     "text": [
      "38/38 [==============================] - 0s 2ms/step - loss: 0.0279 - accuracy: 0.9883\n",
      "Test Loss: 0.02785775437951088\n",
      "Test Accuracy: 0.9883333444595337\n"
     ]
    }
   ],
   "source": [
    "# Evaluate model accuracy\n",
    "loss, accuracy = model.evaluate(test_data, test_labels)\n",
    "print(\"Test Loss:\", loss)\n",
    "print(\"Test Accuracy:\", accuracy)\n"
   ]
  },
  {
   "cell_type": "code",
   "execution_count": 48,
   "metadata": {},
   "outputs": [
    {
     "name": "stdout",
     "output_type": "stream",
     "text": [
      "Model: MODEL_LSTM.h5\n"
     ]
    },
    {
     "name": "stderr",
     "output_type": "stream",
     "text": [
      "C:\\Users\\ACER\\AppData\\Roaming\\Python\\Python311\\site-packages\\keras\\src\\engine\\training.py:3103: UserWarning: You are saving your model as an HDF5 file via `model.save()`. This file format is considered legacy. We recommend using instead the native Keras format, e.g. `model.save('my_model.keras')`.\n",
      "  saving_api.save_model(\n"
     ]
    }
   ],
   "source": [
    "\n",
    "model_path = 'MODEL_LSTM.h5'\n",
    "\n",
    "model.save(model_path)\n",
    "\n",
    "print(\"Model:\", model_path)\n"
   ]
  }
 ],
 "metadata": {
  "kernelspec": {
   "display_name": "Python 3",
   "language": "python",
   "name": "python3"
  },
  "language_info": {
   "codemirror_mode": {
    "name": "ipython",
    "version": 3
   },
   "file_extension": ".py",
   "mimetype": "text/x-python",
   "name": "python",
   "nbconvert_exporter": "python",
   "pygments_lexer": "ipython3",
   "version": "3.11.6"
  }
 },
 "nbformat": 4,
 "nbformat_minor": 2
}
